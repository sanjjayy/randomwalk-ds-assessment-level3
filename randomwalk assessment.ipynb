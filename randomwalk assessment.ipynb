{
 "cells": [
  {
   "cell_type": "raw",
   "id": "0aa7c7c3",
   "metadata": {},
   "source": [
    "1)How many books do not have an original title [books.csv]?"
   ]
  },
  {
   "cell_type": "code",
   "execution_count": 17,
   "id": "24ea5188",
   "metadata": {},
   "outputs": [
    {
     "name": "stdout",
     "output_type": "stream",
     "text": [
      "The number of books without an original title in books.csv is: 36\n"
     ]
    }
   ],
   "source": [
    "import pandas as pd\n",
    "\n",
    "# Loading books.csv\n",
    "books_bs = pd.read_csv('downloads/books.csv')\n",
    "\n",
    "# Counting the number of books without an original title\n",
    "books_without = books_bs['original_title'].isnull().sum()\n",
    "\n",
    "print(f\"The number of books without an original title in books.csv is: {books_without}\")"
   ]
  },
  {
   "cell_type": "raw",
   "id": "b8df7e68",
   "metadata": {},
   "source": [
    "2)How many unique books are present in the dataset ? Evaluate based on the 'book_id' after removing records containing null values for original_title column in [books.csv] and corresponding records in [book_tags.csv] and [ratings.csv]"
   ]
  },
  {
   "cell_type": "code",
   "execution_count": 37,
   "id": "982e9965",
   "metadata": {},
   "outputs": [
    {
     "name": "stdout",
     "output_type": "stream",
     "text": [
      "   goodreads_book_id  tag_id  count\n",
      "0                386   30574    565\n",
      "1                386   19733    280\n",
      "2                386   21689    182\n",
      "3                386   21773     99\n",
      "4                386   19742     78\n",
      "   goodreads_book_id  tag_id  count\n",
      "0                386   30574    565\n",
      "1                386   19733    280\n",
      "2                386   21689    182\n",
      "3                386   21773     99\n",
      "4                386   19742     78\n",
      "The number of unique tags in the dataset is: 3651\n"
     ]
    }
   ],
   "source": [
    "import pandas as pd\n",
    "\n",
    "# Loading book_tags.csv \n",
    "book_tags_bt = pd.read_csv('downloads/book_tags.csv')\n",
    "\n",
    "# Displaying the first few rows\n",
    "print(book_tags_bt.head())\n",
    "\n",
    "unique_books = book_tags_bt['goodreads_book_id'].dropna().unique()\n",
    "\n",
    "# Removing corresponding records in book_tags.csv\n",
    "book_tags_bt = book_tags_bt[book_tags_bt['goodreads_book_id'].isin(unique_books)]\n",
    "\n",
    "# Displaying the first few rows of the updated dataframe\n",
    "print(book_tags_bt.head())\n",
    "\n",
    "unique_tags = book_tags_bt['tag_id'].nunique()\n",
    "\n",
    "print(f\"The number of unique tags in the dataset is: {unique_tags}\")"
   ]
  },
  {
   "cell_type": "raw",
   "id": "6c3bbe79",
   "metadata": {},
   "source": [
    "3)How many unique users are present in the dataset [ratings.csv] ?"
   ]
  },
  {
   "cell_type": "code",
   "execution_count": 20,
   "id": "03b702e4",
   "metadata": {},
   "outputs": [
    {
     "name": "stdout",
     "output_type": "stream",
     "text": [
      "The number of unique users in the dataset ratings is: 40836\n"
     ]
    }
   ],
   "source": [
    "import pandas as pd\n",
    "\n",
    "# Loading ratings.csv\n",
    "ratings_rs = pd.read_csv('downloads/ratings.csv')\n",
    "\n",
    "# Getting the number of unique users\n",
    "uni_users = ratings_rs['user_id'].nunique()\n",
    "\n",
    "print(f\"The number of unique users in the dataset ratings is: {uni_users}\")"
   ]
  },
  {
   "cell_type": "raw",
   "id": "289f2c55",
   "metadata": {},
   "source": [
    "4)How many unique tags are there in the dataset [book_tags.csv] ?"
   ]
  },
  {
   "cell_type": "code",
   "execution_count": 23,
   "id": "9b6244c3",
   "metadata": {},
   "outputs": [
    {
     "name": "stdout",
     "output_type": "stream",
     "text": [
      "The number of unique tags in the dataset is: 3651\n"
     ]
    }
   ],
   "source": [
    "import pandas as pd\n",
    "\n",
    "# Loading book_tags.csv \n",
    "book_tags_bt = pd.read_csv('downloads/book_tags.csv')\n",
    "\n",
    "# Getting the number of unique tags\n",
    "uni_tags = book_tags_bt['tag_id'].nunique()\n",
    "\n",
    "print(f\"The number of unique tags in the dataset is: {uni_tags}\")"
   ]
  },
  {
   "cell_type": "raw",
   "id": "9af8995b",
   "metadata": {},
   "source": [
    "5)Which tag_id is the most frequently used ie. mapped with the highest number of books [book_tags.csv] ? (In case of more than one tag, mention the tag id with the least numerical value)’."
   ]
  },
  {
   "cell_type": "code",
   "execution_count": 34,
   "id": "a48da090",
   "metadata": {},
   "outputs": [
    {
     "name": "stdout",
     "output_type": "stream",
     "text": [
      "The most frequently used tag_id is: 4600\n"
     ]
    }
   ],
   "source": [
    "import pandas as pd\n",
    "\n",
    "# Loading book_tags.csv \n",
    "book_tags_bt = pd.read_csv('downloads/book_tags.csv')\n",
    "\n",
    "tag_counts = book_tags_bt['tag_id'].value_counts()\n",
    "\n",
    "# Getting the tag_id with the highest count\n",
    "most_frequent_tag = tag_counts.idxmax()\n",
    "\n",
    "least_numerical_tag = tag_counts[tag_counts == tag_counts.max()].idxmin()\n",
    "\n",
    "print(f\"The most frequently used tag_id is: {least_numerical_tag}\")"
   ]
  },
  {
   "cell_type": "raw",
   "id": "00af9e77",
   "metadata": {},
   "source": [
    "6)Which book (title) has the most number of counts of tags given by the user [book_tags.csv,books.csv] ."
   ]
  },
  {
   "cell_type": "code",
   "execution_count": 35,
   "id": "0caa2efe",
   "metadata": {},
   "outputs": [
    {
     "name": "stdout",
     "output_type": "stream",
     "text": [
      "The book with the most number of counts of tags is: #GIRLBOSS\n"
     ]
    }
   ],
   "source": [
    "import pandas as pd\n",
    "\n",
    "# Loading book_tags.csv and books.csv \n",
    "book_tags_bt = pd.read_csv('downloads/book_tags.csv')\n",
    "books_bt = pd.read_csv('downloads/books.csv')\n",
    "\n",
    "# Merging dataframes \n",
    "merged_bt = pd.merge(book_tags_bt, books_bt[['goodreads_book_id', 'title']], \n",
    "                     left_on='goodreads_book_id', right_on='goodreads_book_id', \n",
    "                     how='inner')\n",
    "\n",
    "# Grouping by book title and counting the number of tags\n",
    "book_tag = merged_bt.groupby('title')['tag_id'].count()\n",
    "\n",
    "# Getting the book title with the most tag counts\n",
    "most_tags_book_title = book_tag.idxmax()\n",
    "\n",
    "print(f\"The book with the most number of counts of tags is: {most_tags_book_title}\")"
   ]
  },
  {
   "cell_type": "raw",
   "id": "796d286c",
   "metadata": {},
   "source": [
    "7)Plot a bar chart with top 20 unique tags in descending order of ‘user records’ (the number of users tagged the given tag_id with the goodreads_book_id) [book_tags.csv]"
   ]
  },
  {
   "cell_type": "code",
   "execution_count": 32,
   "id": "aed0f11b",
   "metadata": {},
   "outputs": [
    {
     "data": {
      "image/png": "[encoded data removed]",
      "text/plain": [
       "<Figure size 1200x600 with 1 Axes>"
      ]
     },
     "metadata": {},
     "output_type": "display_data"
    }
   ],
   "source": [
    "import pandas as pd\n",
    "import matplotlib.pyplot as plt\n",
    "\n",
    "# Loading book_tags.csv\n",
    "book_tags_bt = pd.read_csv('downloads/book_tags.csv')\n",
    "\n",
    "# Grouping by tag_id\n",
    "tag_user_counts = book_tags_bt.groupby('tag_id')['goodreads_book_id'].count()\n",
    "\n",
    "# Getting the top 20 tags\n",
    "top_20_tags = tag_user_counts.nlargest(20)\n",
    "\n",
    "# Plotting a bar chart\n",
    "plt.figure(figsize=(12, 6))\n",
    "top_20_tags.plot(kind='bar', color='skyblue')\n",
    "plt.title('Top 20 Tags Based on User Records')\n",
    "plt.xlabel('Tag ID')\n",
    "plt.ylabel('Number of User Records')\n",
    "plt.xticks(rotation=45)\n",
    "plt.show()"
   ]
  },
  {
   "cell_type": "code",
   "execution_count": null,
   "id": "eaab16c0",
   "metadata": {},
   "outputs": [],
   "source": []
  }
 ],
 "metadata": {
  "kernelspec": {
   "display_name": "Python 3 (ipykernel)",
   "language": "python",
   "name": "python3"
  },
  "language_info": {
   "codemirror_mode": {
    "name": "ipython",
    "version": 3
   },
   "file_extension": ".py",
   "mimetype": "text/x-python",
   "name": "python",
   "nbconvert_exporter": "python",
   "pygments_lexer": "ipython3",
   "version": "3.11.5"
  }
 },
 "nbformat": 4,
 "nbformat_minor": 5
}
